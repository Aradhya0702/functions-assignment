{
  "nbformat": 4,
  "nbformat_minor": 0,
  "metadata": {
    "colab": {
      "provenance": []
    },
    "kernelspec": {
      "name": "python3",
      "display_name": "Python 3"
    },
    "language_info": {
      "name": "python"
    }
  },
  "cells": [
    {
      "cell_type": "markdown",
      "source": [
        "Theory Questions:\n"
      ],
      "metadata": {
        "id": "CgFytLeDDnkq"
      }
    },
    {
      "cell_type": "markdown",
      "source": [
        "1) What is the difference between a function and a method in Python?\n",
        "- In python both functions and methods are block of reusable codes designed to perform specific tasks ,but there difference lies in their association with object and classes.\n",
        "  - Functions are independent , methods are associated with classes and objects.\n",
        "  - Functions are called directly by name ; methods are called on an object using dot notation (eg: object.method()).\n",
        "  - Functions operate on the data passed to them as arguments ; methods can access and modify the internal state (attribute) of the object they belong to.\n",
        "  -  example:function\n",
        "   def add numbers (a,b):\n",
        "   \"\"\" This is a function to add two numbers .\"\"\"\n",
        "   return a+b\n",
        "   result = add_numbers (5,3)\n",
        "   print (result )\n",
        "  -  example: method\n",
        "  class Dog:\n",
        "  def _ init_(self ,name):\n",
        "  self.name = name\n",
        "  def bark (self):\n",
        "  \"\"\" A method that makes the dog bark .\"\"\"\n",
        "  return f\"{self.name}says Woof!\"\n",
        "  my_dog= Dog(\"Buddy\")\n",
        "  print (my_ dog.bark())\n",
        "\n",
        "\n",
        "\n",
        "  \n"
      ],
      "metadata": {
        "id": "0kg6tc_KD9vb"
      }
    },
    {
      "cell_type": "markdown",
      "source": [
        "\n",
        "2) Explain the concept of function arguments and parameters in Python.\n",
        " - Parameter:\n",
        " - A parameter is a variable defined in the function that act as a paraholder for the value that will be passed in .\n",
        " - It exists in the function definition .\n",
        " example:\n"
      ],
      "metadata": {
        "id": "t5aVyLtgQDpp"
      }
    },
    {
      "cell_type": "code",
      "source": [
        "def greet(name):\n",
        "  print(f\"Hello ,{name}!\")\n",
        "greet(\"Alice\")"
      ],
      "metadata": {
        "colab": {
          "base_uri": "https://localhost:8080/"
        },
        "id": "5H-TF009R0wj",
        "outputId": "945c36dd-40b3-4bc2-978a-da503f5fad52"
      },
      "execution_count": null,
      "outputs": [
        {
          "output_type": "stream",
          "name": "stdout",
          "text": [
            "Hello ,Alice!\n"
          ]
        }
      ]
    },
    {
      "cell_type": "markdown",
      "source": [
        " - Arguments:\n",
        "  - An argument is the actual value you pass to the function when calling it.\n",
        "  - It fills in the parameter."
      ],
      "metadata": {
        "id": "cdM-Qs71SEoM"
      }
    },
    {
      "cell_type": "code",
      "source": [
        "greet(\"Alice\")# \"Alice\" is the argument"
      ],
      "metadata": {
        "id": "H4nex-u3JE3q"
      },
      "execution_count": null,
      "outputs": []
    },
    {
      "cell_type": "markdown",
      "source": [
        "3) What are the different ways to define and call a function in Python?\n",
        " - Simple function(with def)\n",
        "\n",
        "  "
      ],
      "metadata": {
        "id": "3JJUtCbKJReR"
      }
    },
    {
      "cell_type": "code",
      "source": [
        "def greet(name):\n",
        "  print(f\"Hello ,{name}!\")\n",
        "greet(\"Alice\")"
      ],
      "metadata": {
        "colab": {
          "base_uri": "https://localhost:8080/"
        },
        "id": "1er525p3MDYr",
        "outputId": "a2e1c580-d303-4490-fa57-4629cbf34cc4"
      },
      "execution_count": null,
      "outputs": [
        {
          "output_type": "stream",
          "name": "stdout",
          "text": [
            "Hello ,Alice!\n"
          ]
        }
      ]
    },
    {
      "cell_type": "markdown",
      "source": [
        "Function with parameters"
      ],
      "metadata": {
        "id": "JCAuFbIhMMGo"
      }
    },
    {
      "cell_type": "code",
      "source": [
        "def greet(name):\n",
        "  print(f\"Hello ,{name}!\")\n"
      ],
      "metadata": {
        "id": "2Oo2unjMMUxy"
      },
      "execution_count": null,
      "outputs": []
    },
    {
      "cell_type": "markdown",
      "source": [
        "Function with return value"
      ],
      "metadata": {
        "id": "IRo3iDldMklK"
      }
    },
    {
      "cell_type": "code",
      "source": [
        "def add_numbers(a,b):\n",
        "  return a+b\n"
      ],
      "metadata": {
        "id": "rZrokbccMsLK"
      },
      "execution_count": null,
      "outputs": []
    },
    {
      "cell_type": "markdown",
      "source": [
        "Function with default parameters"
      ],
      "metadata": {
        "id": "wKTrwOZIMzcC"
      }
    },
    {
      "cell_type": "code",
      "source": [
        "def greet(name=\"Guest\"):\n",
        "  print(f\"Hello ,{name}!\")"
      ],
      "metadata": {
        "id": "JxF7q7GwNBxE"
      },
      "execution_count": null,
      "outputs": []
    },
    {
      "cell_type": "markdown",
      "source": [
        "Function with variable - length arguments\n",
        " - *args : for multiple positional arguments\n",
        " - **kwargs: for multiple keywords arguments"
      ],
      "metadata": {
        "id": "s-az2jQVNKHu"
      }
    },
    {
      "cell_type": "code",
      "source": [
        "def show_details(*args, **kwargs):\n",
        "  print(\"positional:\",args)\n",
        "  print(\"keyword:\",kwargs)"
      ],
      "metadata": {
        "id": "bJcCz1YuPWbA"
      },
      "execution_count": null,
      "outputs": []
    },
    {
      "cell_type": "markdown",
      "source": [
        "Lambda function"
      ],
      "metadata": {
        "id": "QyieIq-YPyXx"
      }
    },
    {
      "cell_type": "code",
      "source": [
        "square = lambda x: x**2\n",
        "print(square(5))"
      ],
      "metadata": {
        "colab": {
          "base_uri": "https://localhost:8080/"
        },
        "id": "YgmjMy1_P7Nk",
        "outputId": "78c41e02-8b7f-4821-ee9d-d229da385f31"
      },
      "execution_count": null,
      "outputs": [
        {
          "output_type": "stream",
          "name": "stdout",
          "text": [
            "25\n"
          ]
        }
      ]
    },
    {
      "cell_type": "markdown",
      "source": [
        "- Ways to call a function\n",
        "1. Positional arguments"
      ],
      "metadata": {
        "id": "Hnjyd3jHQCls"
      }
    },
    {
      "cell_type": "code",
      "source": [
        "def add_numbers(a,b):\n",
        "  return a+b\n",
        "print(add_numbers(5,3))"
      ],
      "metadata": {
        "colab": {
          "base_uri": "https://localhost:8080/"
        },
        "id": "VUZ_YNsbQYAZ",
        "outputId": "a7b0ca09-eb46-49ee-b6bb-3f5ae8103509"
      },
      "execution_count": null,
      "outputs": [
        {
          "output_type": "stream",
          "name": "stdout",
          "text": [
            "8\n"
          ]
        }
      ]
    },
    {
      "cell_type": "markdown",
      "source": [
        "2. keyword arguments :"
      ],
      "metadata": {
        "id": "CNLz62fPQgMT"
      }
    },
    {
      "cell_type": "code",
      "source": [
        "print (add_numbers(b=3,a=5))"
      ],
      "metadata": {
        "colab": {
          "base_uri": "https://localhost:8080/"
        },
        "id": "oImWRbvKQ_2p",
        "outputId": "e29af71c-aa73-4762-8394-55c5ce9cea76"
      },
      "execution_count": null,
      "outputs": [
        {
          "output_type": "stream",
          "name": "stdout",
          "text": [
            "8\n"
          ]
        }
      ]
    },
    {
      "cell_type": "markdown",
      "source": [
        "3. Default argument"
      ],
      "metadata": {
        "id": "2UEg3f1lRE0e"
      }
    },
    {
      "cell_type": "code",
      "source": [
        "def greet(name=\"Guest\"):\n",
        "  print(f\"Hello ,{name}!\")"
      ],
      "metadata": {
        "id": "-P8CLyJARJ4p"
      },
      "execution_count": null,
      "outputs": []
    },
    {
      "cell_type": "markdown",
      "source": [
        "4. Using *args and **kwargs"
      ],
      "metadata": {
        "id": "xKrbnBugRSMH"
      }
    },
    {
      "cell_type": "code",
      "source": [
        "show_details(\"hello\",name=\"Alice\",age=30)"
      ],
      "metadata": {
        "id": "rfdQbpuQSVhq"
      },
      "execution_count": null,
      "outputs": []
    },
    {
      "cell_type": "markdown",
      "source": [
        "5. calling a lambda function"
      ],
      "metadata": {
        "id": "DZ1Pdi3oSZp1"
      }
    },
    {
      "cell_type": "code",
      "source": [
        "print (square(5))"
      ],
      "metadata": {
        "colab": {
          "base_uri": "https://localhost:8080/"
        },
        "id": "xX65rxXbSg8j",
        "outputId": "867b28c1-ed65-43a9-f2d3-bebb4e31c462"
      },
      "execution_count": null,
      "outputs": [
        {
          "output_type": "stream",
          "name": "stdout",
          "text": [
            "25\n"
          ]
        }
      ]
    },
    {
      "cell_type": "markdown",
      "source": [
        "4) What is the purpose of the `return` statement in a Python function?"
      ],
      "metadata": {
        "id": "8-w7mMCmUgtC"
      }
    },
    {
      "cell_type": "markdown",
      "metadata": {
        "id": "1ee7da66"
      },
      "source": [
        " - The `return` statement in a Python function is used to exit the function and send a value back to the caller.\n",
        "\n",
        "1.  **Sending a Value Back:** The primary purpose is to return a value (or multiple values) that the function has computed or retrieved. This allows the result of the function's work to be used elsewhere in your program.\n",
        "\n",
        "2.  **Exiting the Function:** When a `return` statement is encountered, the function immediately stops executing. Any code within the function after the `return` statement will not be run.\n",
        "\n",
        "3.  **Returning `None` by Default:** If a function doesn't have a `return` statement, or if the `return` statement is used without a value (just `return`), the function will implicitly return `None`. `None` is a special Python object that represents the absence of a value.\n",
        "\n",
        " example:"
      ]
    },
    {
      "cell_type": "code",
      "metadata": {
        "id": "1571a1a5"
      },
      "source": [
        "def multiply(x, y):\n",
        "  \"\"\"This function multiplies two numbers and returns the result.\"\"\"\n",
        "  result = x * y\n",
        "  return result\n",
        "\n",
        "# Call the function and store the returned value\n",
        "product = multiply(5, 3)\n",
        "print(product)\n",
        "\n",
        "# Example of a function that returns None\n",
        "def greet(name):\n",
        "  print(f\"Hello, {name}!\")\n",
        "\n",
        "# Calling greet doesn't return a value, so it implicitly returns None\n",
        "greeting_result = greet(\"Alice\")\n",
        "print(greeting_result)"
      ],
      "execution_count": null,
      "outputs": []
    },
    {
      "cell_type": "markdown",
      "source": [
        "5)  What are iterators in Python and how do they differ from iterables?\n",
        " - Iterators:\n",
        "  A iterator is the actual object that keep track of the current position during iteration .\n",
        "  - it is created by calling iter() on an iterable.\n",
        "  - it implement two methods:\n",
        "   - __iter_(): return the iterator object itself\n",
        "   - _next __(): return the next value and raises StopIteration when there are no more items.**bold text**"
      ],
      "metadata": {
        "id": "UUre7eIPVIvB"
      }
    },
    {
      "cell_type": "code",
      "source": [
        "my_list = [1,2,3]\n",
        "it = iter(my_list)\n",
        "print(next(it))\n",
        "print(next(it))\n",
        "print(next(it))"
      ],
      "metadata": {
        "id": "ouBjDUdYZi3n"
      },
      "execution_count": null,
      "outputs": []
    },
    {
      "cell_type": "markdown",
      "source": [
        "- iterable:\n",
        "- An iterable is any python object that can be looped over.\n",
        "- ex: lists , strings , tuples , sets , dictionaries , ranges .\n",
        "- It implements the __iter__() method ,which returns an iterator."
      ],
      "metadata": {
        "id": "PL9dSFAxZwKO"
      }
    },
    {
      "cell_type": "code",
      "source": [
        "from collections.abc import ItemsView\n",
        "my_list =[1,2,3]\n",
        "for items in my_list :\n",
        "  print (Items)"
      ],
      "metadata": {
        "id": "txQ-bpmdaZ7m"
      },
      "execution_count": null,
      "outputs": []
    },
    {
      "cell_type": "markdown",
      "source": [
        "6. Explain the concept of generators in Python and how they are defined.\n"
      ],
      "metadata": {
        "id": "a1wzGFXya4d4"
      }
    },
    {
      "cell_type": "markdown",
      "metadata": {
        "id": "8e24cc75"
      },
      "source": [
        " - In Python, a **generator** is a special type of iterator that allows you to iterate over a sequence of values. Unlike regular functions that compute and return all values at once, generators produce values one at a time, on demand, using the `yield` keyword.\n",
        "\n",
        " - this makes them very memory-efficient, especially when dealing with large sequences, because they don't store the entire sequence in memory. They generate the next value only when requested."
      ]
    },
    {
      "cell_type": "markdown",
      "source": [
        "7. What are the advantages of using generators over regular functions?"
      ],
      "metadata": {
        "id": "8dpdSIv7bgN_"
      }
    },
    {
      "cell_type": "markdown",
      "metadata": {
        "id": "86fca1d1"
      },
      "source": [
        "The main advantages of using generators over regular functions that return lists or other sequences are related to memory usage and performance:\n",
        "\n",
        "1.  **Memory Efficiency:** Generators produce items one at a time and only when requested. This means they don't need to store the entire sequence in memory, which is crucial when dealing with very large datasets or infinite sequences. Regular functions that return a list, on the other hand, build the entire list in memory before returning it.\n",
        "\n",
        "2.  **Lazy Evaluation:** Generators perform calculations only when the next value is requested by the iterator protocol's `__next__()` method. This \"lazy\" evaluation can improve performance in situations where you might not need to process the entire sequence.\n",
        "\n",
        "3.  **Infinite Sequences:** Generators can easily produce infinite sequences of data because they don't need to store everything.\n",
        "\n",
        "4.  **Readability and Simplicity:** For certain types of sequence generation, generators can make the code more readable and concise compared to writing a class with iterator methods."
      ]
    },
    {
      "cell_type": "markdown",
      "source": [
        "8. What is a lambda function in Python and when is it typically used?"
      ],
      "metadata": {
        "id": "cm6FlIG4bwwh"
      }
    },
    {
      "cell_type": "markdown",
      "metadata": {
        "id": "5e1f4e37"
      },
      "source": [
        " - In Python, a **lambda function** is a small, anonymous function defined with the `lambda` keyword. It's often called an \"anonymous\" function because it doesn't have a standard function name like functions defined with `def`.\n",
        "\n",
        " - lambda functions are typically used for short, simple operations where a full function definition would be unnecessarily verbose. They are often used in conjunction with higher-order functions (functions that take other functions as arguments) like `map()`, `filter()`, and `sorted()`."
      ]
    },
    {
      "cell_type": "markdown",
      "source": [
        "9. Explain the purpose and usage of the `map()` function in Python."
      ],
      "metadata": {
        "id": "wMlun54FcTDD"
      }
    },
    {
      "cell_type": "markdown",
      "metadata": {
        "id": "d25de366"
      },
      "source": [
        " - The `map()` function in Python is a built-in function that is used to apply a specified function to each item of an iterable (like a list, tuple, etc.) and returns an iterator that yields the results.\n",
        "\n",
        "-  in simpler terms, `map()` provides a convenient way to transform each element in an iterable without using an explicit loop."
      ]
    },
    {
      "cell_type": "markdown",
      "source": [
        "10. What is the difference between `map()`, `reduce()`, and `filter()` functions in Python?\n",
        "map(): Transforms each item in an iterable by applying a function. Returns an iterator with the same number of items.\n",
        "filter(): Selects items from an iterable based on a function that returns True. Returns an iterator with potentially fewer items.\n",
        "reduce(): Applies a function cumulatively to items in an iterable to produce a single result. Requires importing reduce from functools.\n",
        "\n"
      ],
      "metadata": {
        "id": "5LecfedCcwis"
      }
    },
    {
      "cell_type": "markdown",
      "source": [
        "11. Using pen & Paper write the internal mechanism for sum operation using  reduce function on this given list:[47,11,42,13];\n"
      ],
      "metadata": {
        "id": "wJRSs9GPdqyQ"
      }
    },
    {
      "cell_type": "markdown",
      "source": [
        "![WhatsApp Image 2025-08-28 at 11.03.53 PM.jpeg](data:image/jpeg;base64,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)"
      ],
      "metadata": {
        "id": "VF6R0JM-vH6c"
      }
    },
    {
      "cell_type": "markdown",
      "source": [
        "Practical Questions:\n"
      ],
      "metadata": {
        "id": "pFHS6RU_high"
      }
    },
    {
      "cell_type": "markdown",
      "source": [
        "1) Write a Python function that takes a list of numbers as input and returns the sum of all even numbers in the list.\n",
        "\n"
      ],
      "metadata": {
        "id": "s-Nbx3TZhrFk"
      }
    },
    {
      "cell_type": "code",
      "metadata": {
        "colab": {
          "base_uri": "https://localhost:8080/"
        },
        "id": "6e559676",
        "outputId": "3af7d1ea-a070-4385-aee4-ed58b63e14d4"
      },
      "source": [
        "def sum_even_numbers(numbers):\n",
        "  \"\"\"\n",
        "  This function takes a list of numbers and returns the sum of all even numbers.\n",
        "  \"\"\"\n",
        "  even_sum = 0\n",
        "  for number in numbers:\n",
        "    if number % 2 == 0:\n",
        "      even_sum += number\n",
        "  return even_sum\n",
        "\n",
        "# Example usage:\n",
        "my_list = [1, 2, 3, 4, 5, 6, 7, 8, 9, 10]\n",
        "result = sum_even_numbers(my_list)\n",
        "print(f\"The sum of even numbers in the list is: {result}\")"
      ],
      "execution_count": null,
      "outputs": [
        {
          "output_type": "stream",
          "name": "stdout",
          "text": [
            "The sum of even numbers in the list is: 30\n"
          ]
        }
      ]
    },
    {
      "cell_type": "markdown",
      "source": [
        "2. Create a Python function that accepts a string and returns the reverse of that string."
      ],
      "metadata": {
        "id": "a6ma1xbCiecJ"
      }
    },
    {
      "cell_type": "code",
      "metadata": {
        "colab": {
          "base_uri": "https://localhost:8080/"
        },
        "id": "9d5726a6",
        "outputId": "4455796f-8a81-49d7-dfe0-874f34cdae7b"
      },
      "source": [
        "def reverse_string(input_string):\n",
        "\n",
        "  return input_string[::-1]\n",
        "my_string = \"Hello, World!\"\n",
        "reversed_string = reverse_string(my_string)\n",
        "print(f\"The original string is: {my_string}\")\n",
        "print(f\"The reversed string is: {reversed_string}\")"
      ],
      "execution_count": null,
      "outputs": [
        {
          "output_type": "stream",
          "name": "stdout",
          "text": [
            "The original string is: Hello, World!\n",
            "The reversed string is: !dlroW ,olleH\n"
          ]
        }
      ]
    },
    {
      "cell_type": "markdown",
      "source": [
        "3. Implement a Python function that takes a list of integers and returns a new list containing the squares of each number.\n"
      ],
      "metadata": {
        "id": "LSl60cwWizzG"
      }
    },
    {
      "cell_type": "code",
      "source": [],
      "metadata": {
        "id": "Dz9YkbW7i-3y"
      },
      "execution_count": null,
      "outputs": []
    },
    {
      "cell_type": "code",
      "metadata": {
        "colab": {
          "base_uri": "https://localhost:8080/"
        },
        "id": "330d41f8",
        "outputId": "f8f16694-7af5-4522-d4b1-34402dfac553"
      },
      "source": [
        "def square_numbers(numbers):\n",
        "\n",
        "  squared_list = [number ** 2 for number in numbers]\n",
        "  return squared_list\n",
        "my_list = [1, 2, 3, 4, 5]\n",
        "squared_numbers = square_numbers(my_list)\n",
        "print(f\"Original list: {my_list}\")\n",
        "print(f\"Squared list: {squared_numbers}\")"
      ],
      "execution_count": null,
      "outputs": [
        {
          "output_type": "stream",
          "name": "stdout",
          "text": [
            "Original list: [1, 2, 3, 4, 5]\n",
            "Squared list: [1, 4, 9, 16, 25]\n"
          ]
        }
      ]
    },
    {
      "cell_type": "markdown",
      "source": [
        "4. Write a Python function that checks if a given number is prime or not from 1 to 200."
      ],
      "metadata": {
        "id": "GgTMzNm_jOEP"
      }
    },
    {
      "cell_type": "code",
      "metadata": {
        "colab": {
          "base_uri": "https://localhost:8080/"
        },
        "id": "5b9db347",
        "outputId": "108d8978-4453-418f-c3f6-0e69492d8aaa"
      },
      "source": [
        "def is_prime(num):\n",
        "\n",
        "  if num <= 1:\n",
        "    return False\n",
        "  for i in range(2, int(num**0.5) + 1):\n",
        "    if num % i == 0:\n",
        "      return False\n",
        "  return True\n",
        "print(\"Prime numbers between 1 and 200:\")\n",
        "for number in range(1, 201):\n",
        "  if is_prime(number):\n",
        "    print(number)"
      ],
      "execution_count": null,
      "outputs": [
        {
          "output_type": "stream",
          "name": "stdout",
          "text": [
            "Prime numbers between 1 and 200:\n",
            "2\n",
            "3\n",
            "5\n",
            "7\n",
            "11\n",
            "13\n",
            "17\n",
            "19\n",
            "23\n",
            "29\n",
            "31\n",
            "37\n",
            "41\n",
            "43\n",
            "47\n",
            "53\n",
            "59\n",
            "61\n",
            "67\n",
            "71\n",
            "73\n",
            "79\n",
            "83\n",
            "89\n",
            "97\n",
            "101\n",
            "103\n",
            "107\n",
            "109\n",
            "113\n",
            "127\n",
            "131\n",
            "137\n",
            "139\n",
            "149\n",
            "151\n",
            "157\n",
            "163\n",
            "167\n",
            "173\n",
            "179\n",
            "181\n",
            "191\n",
            "193\n",
            "197\n",
            "199\n"
          ]
        }
      ]
    },
    {
      "cell_type": "markdown",
      "source": [
        "5. Create an iterator class in Python that generates the Fibonacci sequence up to a specified number of terms.\n"
      ],
      "metadata": {
        "id": "-riXnacrj8y3"
      }
    },
    {
      "cell_type": "code",
      "source": [
        "class FibonacciIterator:\n",
        "  def __init__(self, max_terms):\n",
        "    self.max_terms = max_terms\n",
        "    self.current_term = 0\n",
        "    self.a = 0\n",
        "    self.b = 1\n",
        "\n",
        "  def __iter__(self):\n",
        "    return self\n",
        "\n",
        "  def __next__(self):\n",
        "    if self.current_term >= self.max_terms:\n",
        "      raise StopIteration\n",
        "\n",
        "    if self.current_term == 0:\n",
        "      self.current_term += 1\n",
        "      return self.a\n",
        "    elif self.current_term == 1:\n",
        "      self.current_term += 1\n",
        "      return self.b\n",
        "    else:\n",
        "      next_fib = self.a + self.b\n",
        "      self.a = self.b\n",
        "      self.b = next_fib\n",
        "      self.current_term += 1\n",
        "      return next_fib\n"
      ],
      "metadata": {
        "id": "h0lIX65flWn0"
      },
      "execution_count": null,
      "outputs": []
    },
    {
      "cell_type": "markdown",
      "source": [
        "6. Write a generator function in Python that yields the powers of 2 up to a given exponent."
      ],
      "metadata": {
        "id": "8k9_AzL3lmRZ"
      }
    },
    {
      "cell_type": "code",
      "metadata": {
        "colab": {
          "base_uri": "https://localhost:8080/"
        },
        "id": "6791ef8e",
        "outputId": "66baf25f-0261-4dc1-d615-39240962978a"
      },
      "source": [
        "def powers_of_two(exponent):\n",
        "\n",
        "  for i in range(exponent + 1):\n",
        "    yield 2 ** i\n",
        "power_generator = powers_of_two(5)\n",
        "\n",
        "print(\"Powers of 2:\")\n",
        "for power in power_generator:\n",
        "  print(power)"
      ],
      "execution_count": null,
      "outputs": [
        {
          "output_type": "stream",
          "name": "stdout",
          "text": [
            "Powers of 2:\n",
            "1\n",
            "2\n",
            "4\n",
            "8\n",
            "16\n",
            "32\n"
          ]
        }
      ]
    },
    {
      "cell_type": "markdown",
      "source": [
        "7. Implement a generator function that reads a file line by line and yields each line as a string."
      ],
      "metadata": {
        "id": "x43rVDyll34d"
      }
    },
    {
      "cell_type": "code",
      "metadata": {
        "colab": {
          "base_uri": "https://localhost:8080/"
        },
        "id": "b1a8c3d8",
        "outputId": "242fc2d9-4f27-47a0-fd83-f7287133ed34"
      },
      "source": [
        "\n",
        "file_content = \"\"\"This is the first line.\n",
        "This is the second line.\n",
        "This is the third line.\n",
        "And this is the fourth and final line.\"\"\"\n",
        "\n",
        "with open(\"my_dummy_file.txt\", \"w\") as f:\n",
        "  f.write(file_content)\n",
        "\n",
        "print(\"Dummy file 'my_dummy_file.txt' created successfully.\")"
      ],
      "execution_count": null,
      "outputs": [
        {
          "output_type": "stream",
          "name": "stdout",
          "text": [
            "Dummy file 'my_dummy_file.txt' created successfully.\n"
          ]
        }
      ]
    },
    {
      "cell_type": "markdown",
      "source": [
        "8. Use a lambda function in Python to sort a list of tuples based on the second element of each tuple."
      ],
      "metadata": {
        "id": "ilFioa28mTgk"
      }
    },
    {
      "cell_type": "code",
      "metadata": {
        "colab": {
          "base_uri": "https://localhost:8080/"
        },
        "id": "2b374533",
        "outputId": "b18cf7e2-41a4-419c-a62f-47a97fc4f4d5"
      },
      "source": [
        "# List of tuples\n",
        "list_of_tuples = [(1, 'c'), (2, 'a'), (3, 'b')]\n",
        "\n",
        "# Sort the list of tuples based on the second element using a lambda function\n",
        "sorted_list = sorted(list_of_tuples, key=lambda item: item[1])\n",
        "\n",
        "print(\"Original list of tuples:\", list_of_tuples)\n",
        "print(\"Sorted list of tuples:\", sorted_list)"
      ],
      "execution_count": null,
      "outputs": [
        {
          "output_type": "stream",
          "name": "stdout",
          "text": [
            "Original list of tuples: [(1, 'c'), (2, 'a'), (3, 'b')]\n",
            "Sorted list of tuples: [(2, 'a'), (3, 'b'), (1, 'c')]\n"
          ]
        }
      ]
    },
    {
      "cell_type": "markdown",
      "source": [
        "9. Write a Python program that uses `map()` to convert a list of temperatures from Celsius to Fahrenheit."
      ],
      "metadata": {
        "id": "96nP3GebmfNS"
      }
    },
    {
      "cell_type": "code",
      "metadata": {
        "colab": {
          "base_uri": "https://localhost:8080/"
        },
        "id": "d09dfe03",
        "outputId": "5c1d4209-a3b6-4c10-d821-f1e6e2e1b1a5"
      },
      "source": [
        "# List of temperatures in Celsius\n",
        "celsius_temperatures = [0, 10, 20, 30, 40, 50]\n",
        "\n",
        "# Function to convert Celsius to Fahrenheit\n",
        "def celsius_to_fahrenheit(celsius):\n",
        "  return (celsius * 9/5) + 32\n",
        "\n",
        "# Use map() to convert the list of Celsius temperatures to Fahrenheit\n",
        "fahrenheit_temperatures = list(map(celsius_to_fahrenheit, celsius_temperatures))\n",
        "\n",
        "print(\"Celsius temperatures:\", celsius_temperatures)\n",
        "print(\"Fahrenheit temperatures:\", fahrenheit_temperatures)"
      ],
      "execution_count": null,
      "outputs": [
        {
          "output_type": "stream",
          "name": "stdout",
          "text": [
            "Celsius temperatures: [0, 10, 20, 30, 40, 50]\n",
            "Fahrenheit temperatures: [32.0, 50.0, 68.0, 86.0, 104.0, 122.0]\n"
          ]
        }
      ]
    },
    {
      "cell_type": "markdown",
      "source": [
        "10. Create a Python program that uses `filter()` to remove all the vowels from a given string."
      ],
      "metadata": {
        "id": "92BlWGKzmuP7"
      }
    },
    {
      "cell_type": "code",
      "metadata": {
        "colab": {
          "base_uri": "https://localhost:8080/"
        },
        "id": "7ced5630",
        "outputId": "4f6de74c-b4a2-4fbc-b5ae-478060dad77c"
      },
      "source": [
        "# Input string\n",
        "input_string = \"Hello, Python!\"\n",
        "\n",
        "# Define a function to check if a character is a vowel\n",
        "def is_not_vowel(char):\n",
        "  return char.lower() not in 'aeiou'\n",
        "\n",
        "# Use filter() to remove vowels from the string\n",
        "# filter returns an iterator, so we join the characters to form a string\n",
        "filtered_string = \"\".join(filter(is_not_vowel, input_string))\n",
        "\n",
        "print(\"Original string:\", input_string)\n",
        "print(\"String after removing vowels:\", filtered_string)\n"
      ],
      "execution_count": null,
      "outputs": [
        {
          "output_type": "stream",
          "name": "stdout",
          "text": [
            "Original string: Hello, Python!\n",
            "String after removing vowels: Hll, Pythn!\n"
          ]
        }
      ]
    },
    {
      "cell_type": "markdown",
      "source": [
        "11) Imagine an accounting routine used in a book shop. It works on a list with sublists, which look like this:\n",
        "order no.     book title and author        quantity     price per item\n",
        "34587         Learning python, mark lutz    4            40.95\n",
        "98762         python programming            5             56.80\n",
        "\n",
        "Write a Python program, which returns a list with 2-tuples. Each tuple consists of the order number and the product of the price per item and the quantity. The product should be increased by 10,- € if the value of the order is smaller than 100,00 €.\n",
        "Write a Python program using lambda and map.\n",
        "\n",
        "\n",
        "\n",
        "\n"
      ],
      "metadata": {
        "id": "YIO7UgFRm6bI"
      }
    },
    {
      "cell_type": "code",
      "source": [
        "orders = [\n",
        "    [34587, \"Learning Python, Mark Lutz\", 4, 40.95],\n",
        "    [98762, \"Programming Python, Mark Lutz\", 5, 56.80],\n",
        "    [77226, \"Head First Python, Paul Barry\", 3, 32.95],\n",
        "    [88112, \"Einführung in Python3, Bernd Klein\", 3, 24.99]\n",
        "]\n",
        "\n",
        "# Using lambda and map\n",
        "invoice = list(map(lambda order: (order[0], order[2] * order[3] if order[2] * order[3] >= 100 else order[2] * order[3] + 10), orders))\n",
        "\n",
        "print(invoice)"
      ],
      "metadata": {
        "id": "bPg3mbD02Ype",
        "outputId": "4794d942-63f2-4260-e476-ccd7f2754055",
        "colab": {
          "base_uri": "https://localhost:8080/"
        }
      },
      "execution_count": null,
      "outputs": [
        {
          "output_type": "stream",
          "name": "stdout",
          "text": [
            "[(34587, 163.8), (98762, 284.0), (77226, 108.85000000000001), (88112, 84.97)]\n"
          ]
        }
      ]
    },
    {
      "cell_type": "markdown",
      "source": [],
      "metadata": {
        "id": "6k3SW7m4wTft"
      }
    }
  ]
}